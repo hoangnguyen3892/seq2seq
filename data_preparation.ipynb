{
 "cells": [
  {
   "cell_type": "code",
   "execution_count": 1,
   "metadata": {
    "collapsed": false,
    "deletable": true,
    "editable": true
   },
   "outputs": [],
   "source": [
    "import string\n",
    "import os\n",
    "import codecs\n",
    "import pickle"
   ]
  },
  {
   "cell_type": "markdown",
   "metadata": {},
   "source": [
    "# Prepare mapping Functions"
   ]
  },
  {
   "cell_type": "code",
   "execution_count": 2,
   "metadata": {
    "collapsed": true,
    "deletable": true,
    "editable": true
   },
   "outputs": [],
   "source": [
    "letter_list = ['_GO', '_EOS', \"'\", \n",
    "          'a', 'b', 'c', 'd', 'e', 'f', 'g', 'h',\n",
    "          'i', 'j', 'k', 'l', 'm', 'n', 'o', 'p',\n",
    "          'q', 'r', 's', 't', 'u', 'v', 'w', 'x', 'y', 'z']"
   ]
  },
  {
   "cell_type": "code",
   "execution_count": 3,
   "metadata": {
    "collapsed": false,
    "deletable": true,
    "editable": true
   },
   "outputs": [],
   "source": [
    "letter2index = {}\n",
    "index2letter = {}\n",
    "for index, letter in enumerate(letter_list):\n",
    "    letter2index[letter] = index\n",
    "    index2letter[index] = letter\n",
    "    \n",
    "#print('LETTER TO INDEX: {}\\n'.format(letter2index))\n",
    "#print('INDEX TO LETTER: {}\\n'.format(index2letter))"
   ]
  },
  {
   "cell_type": "code",
   "execution_count": 4,
   "metadata": {
    "collapsed": true,
    "deletable": true,
    "editable": true
   },
   "outputs": [],
   "source": [
    "phoneme_list = ['_GO', '_EOS',\n",
    "                'AA', 'AE', 'AH', 'AO', 'AW',\n",
    "                'AY', 'B', 'CH', 'D', 'DH', 'EH', \n",
    "                'ER', 'EY', 'F', 'G', 'HH', 'IH',\n",
    "                'IY', 'JH', 'K', 'L', 'M', 'N', \n",
    "                'NG', 'OW', 'OY', 'P', 'R', 'S',\n",
    "                'SH', 'T', 'TH', 'UH', 'UW', 'V', \n",
    "                'W', 'Y', 'Z','ZH']"
   ]
  },
  {
   "cell_type": "code",
   "execution_count": 5,
   "metadata": {
    "collapsed": false,
    "deletable": true,
    "editable": true
   },
   "outputs": [],
   "source": [
    "phoneme2index = {}\n",
    "index2phoneme = {}\n",
    "\n",
    "for index, phoneme in enumerate(phoneme_list):\n",
    "    phoneme2index[phoneme] = index\n",
    "    index2phoneme[index] = phoneme\n",
    "    \n",
    "#print('PHONEME TO INDEX: {}\\n'.format(phoneme2index))\n",
    "#print('INDEX TO PHONEME: {}\\n'.format(index2phoneme))"
   ]
  },
  {
   "cell_type": "markdown",
   "metadata": {
    "deletable": true,
    "editable": true
   },
   "source": [
    "To get the data list, run the following command\n",
    "\n",
    "```%cat cmudict/cmudict.symbols | awk '{printf \"\\\"\"$1\"\\\",\"}'```"
   ]
  },
  {
   "cell_type": "code",
   "execution_count": 6,
   "metadata": {
    "collapsed": true,
    "deletable": true,
    "editable": true
   },
   "outputs": [],
   "source": [
    "symbol_list = ['_GO', '_EOS', \n",
    "               \"AA\",\"AA0\",\"AA1\",\"AA2\",\"AE\",\"AE0\",\"AE1\",\n",
    "               \"AE2\",\"AH\",\"AH0\",\"AH1\",\"AH2\",\"AO\",\"AO0\",\n",
    "               \"AO1\",\"AO2\",\"AW\",\"AW0\",\"AW1\",\"AW2\",\"AY\",\n",
    "               \"AY0\",\"AY1\",\"AY2\",\"B\",\"CH\",\"D\",\"DH\",\"EH\",\n",
    "               \"EH0\",\"EH1\",\"EH2\",\"ER\",\"ER0\",\"ER1\",\"ER2\",\n",
    "               \"EY\",\"EY0\",\"EY1\",\"EY2\",\"F\",\"G\",\"HH\",\"IH\",\n",
    "               \"IH0\",\"IH1\",\"IH2\",\"IY\",\"IY0\",\"IY1\",\"IY2\",\n",
    "               \"JH\",\"K\",\"L\",\"M\",\"N\",\"NG\",\"OW\",\"OW0\",\"OW1\",\n",
    "               \"OW2\",\"OY\",\"OY0\",\"OY1\",\"OY2\",\"P\",\"R\",\"S\",\n",
    "               \"SH\",\"T\",\"TH\",\"UH\",\"UH0\",\"UH1\",\"UH2\",\"UW\",\n",
    "               \"UW0\",\"UW1\",\"UW2\",\"V\",\"W\",\"Y\",\"Z\",\"ZH\"]"
   ]
  },
  {
   "cell_type": "code",
   "execution_count": 7,
   "metadata": {
    "collapsed": false,
    "deletable": true,
    "editable": true
   },
   "outputs": [],
   "source": [
    "symbol2index = {}\n",
    "index2symbol= {}\n",
    "\n",
    "for index, symbol in enumerate(symbol_list):\n",
    "    symbol2index[symbol] = index\n",
    "    index2symbol[index] = symbol\n",
    "    \n",
    "#print('SYMBOL TO INDEX: {}\\n'.format(symbol2index))\n",
    "#print('INDEX TO SYMBOL: {}\\n'.format(index2symbol))"
   ]
  },
  {
   "cell_type": "markdown",
   "metadata": {},
   "source": [
    "# Split dictionary"
   ]
  },
  {
   "cell_type": "code",
   "execution_count": 8,
   "metadata": {
    "collapsed": true
   },
   "outputs": [],
   "source": [
    "def split_to_grapheme_phoneme(source_dic):\n",
    "    \"\"\"\n",
    "    Split input dictionary into two separate lists with graphemes and phonemes.\n",
    "    Args:\n",
    "    inp_dictionary: input dictionary.\n",
    "    \"\"\"\n",
    "    special_char = ['.', '(', '-']\n",
    "    graphemes, phonemes = [], []\n",
    "    for line in source_dic:\n",
    "        if '#' in line:\n",
    "            split_line = line.split('#')[0].strip().split()\n",
    "        else:   \n",
    "            split_line = line.strip().split()\n",
    "        \n",
    "        if len(split_line) > 1:\n",
    "            if not any(char in line for char in special_char):\n",
    "                phoneme = ['_GO']+split_line[1:]+['_EOS']\n",
    "                \n",
    "                grapheme = ['_GO']+list(split_line[0])+['_EOS']\n",
    "                \n",
    "                graphemes.append(grapheme)\n",
    "                phonemes.append(phoneme)\n",
    "    return graphemes, phonemes"
   ]
  },
  {
   "cell_type": "code",
   "execution_count": 9,
   "metadata": {
    "collapsed": true
   },
   "outputs": [],
   "source": [
    "def split_dictionary(train_path):\n",
    "    \"\"\"\n",
    "    Split source dictionary to train, validation and test sets.\n",
    "    \"\"\"\n",
    "    with codecs.open(train_path, \"r\", \"utf-8\") as f:\n",
    "        source_dic = f.readlines()\n",
    "    return split_to_grapheme_phoneme(source_dic)"
   ]
  },
  {
   "cell_type": "code",
   "execution_count": 10,
   "metadata": {
    "collapsed": true
   },
   "outputs": [],
   "source": [
    "graphemes, phonemes = split_dictionary('cmudict/cmudict.dict')"
   ]
  },
  {
   "cell_type": "markdown",
   "metadata": {},
   "source": [
    "```python\n",
    "# Use this to understand how to split dictionary into a list of graphemes and a list of phonemes\n",
    "with codecs.open('cmudict/cmudict.dict', \"r\", \"utf-8\") as f:\n",
    "    source_dic = f.readlines()\n",
    "    line = source_dic[1]\n",
    "    split_line = line.strip().split()\n",
    "    first = list(split_line[0])\n",
    "    print(line)\n",
    "    print(split_line)\n",
    "    print(first)\n",
    "```"
   ]
  },
  {
   "cell_type": "code",
   "execution_count": 11,
   "metadata": {
    "collapsed": false,
    "deletable": true,
    "editable": true
   },
   "outputs": [
    {
     "data": {
      "text/plain": [
       "[['_GO', \"'\", 'b', 'o', 'u', 't', '_EOS'],\n",
       " ['_GO', \"'\", 'c', 'a', 'u', 's', 'e', '_EOS'],\n",
       " ['_GO', \"'\", 'c', 'o', 'u', 'r', 's', 'e', '_EOS'],\n",
       " ['_GO', \"'\", 'c', 'u', 's', 'e', '_EOS'],\n",
       " ['_GO', \"'\", 'e', 'm', '_EOS'],\n",
       " ['_GO', \"'\", 'f', 'r', 'i', 's', 'c', 'o', '_EOS'],\n",
       " ['_GO', \"'\", 'g', 'a', 'i', 'n', '_EOS'],\n",
       " ['_GO', \"'\", 'k', 'a', 'y', '_EOS'],\n",
       " ['_GO', \"'\", 'm', '_EOS'],\n",
       " ['_GO', \"'\", 'n', '_EOS']]"
      ]
     },
     "execution_count": 11,
     "metadata": {},
     "output_type": "execute_result"
    }
   ],
   "source": [
    "graphemes[0:10]"
   ]
  },
  {
   "cell_type": "code",
   "execution_count": 12,
   "metadata": {
    "collapsed": false,
    "deletable": true,
    "editable": true
   },
   "outputs": [
    {
     "data": {
      "text/plain": [
       "[['_GO', 'B', 'AW1', 'T', '_EOS'],\n",
       " ['_GO', 'K', 'AH0', 'Z', '_EOS'],\n",
       " ['_GO', 'K', 'AO1', 'R', 'S', '_EOS'],\n",
       " ['_GO', 'K', 'Y', 'UW1', 'Z', '_EOS'],\n",
       " ['_GO', 'AH0', 'M', '_EOS'],\n",
       " ['_GO', 'F', 'R', 'IH1', 'S', 'K', 'OW0', '_EOS'],\n",
       " ['_GO', 'G', 'EH1', 'N', '_EOS'],\n",
       " ['_GO', 'K', 'EY1', '_EOS'],\n",
       " ['_GO', 'AH0', 'M', '_EOS'],\n",
       " ['_GO', 'AH0', 'N', '_EOS']]"
      ]
     },
     "execution_count": 12,
     "metadata": {},
     "output_type": "execute_result"
    }
   ],
   "source": [
    "phonemes[:10]"
   ]
  },
  {
   "cell_type": "markdown",
   "metadata": {},
   "source": [
    "# Convert to index"
   ]
  },
  {
   "cell_type": "code",
   "execution_count": 13,
   "metadata": {
    "collapsed": true,
    "deletable": true,
    "editable": true
   },
   "outputs": [],
   "source": [
    "def convert2Index(source_list, mappingFunction):\n",
    "    target_list = []\n",
    "    for i in source_list:\n",
    "        target_ele = [mappingFunction[ele] for ele in i]\n",
    "        target_list.append(target_ele)\n",
    "    return target_list"
   ]
  },
  {
   "cell_type": "code",
   "execution_count": 14,
   "metadata": {
    "collapsed": false,
    "deletable": true,
    "editable": true
   },
   "outputs": [],
   "source": [
    "graphemes_index = convert2Index(graphemes, letter2index)"
   ]
  },
  {
   "cell_type": "code",
   "execution_count": 15,
   "metadata": {
    "collapsed": false
   },
   "outputs": [],
   "source": [
    "phonemes_index = convert2Index(phonemes, symbol2index)"
   ]
  },
  {
   "cell_type": "markdown",
   "metadata": {},
   "source": [
    "# Split data into train, val, test"
   ]
  },
  {
   "cell_type": "code",
   "execution_count": 16,
   "metadata": {
    "collapsed": true
   },
   "outputs": [],
   "source": [
    "def dataSplit(data):\n",
    "    train_port = 17/20\n",
    "    val_port = 1/20\n",
    "    #test_port = 2/20\n",
    "    train_shape = int(len(data)*train_port)\n",
    "    val_shape = int(len(data)*val_port)\n",
    "    #test_shape = int(len(data)*test_port)\n",
    "    return data[:train_shape], data[train_shape:train_shape+val_shape], data[train_shape+val_shape:]"
   ]
  },
  {
   "cell_type": "code",
   "execution_count": 17,
   "metadata": {
    "collapsed": true
   },
   "outputs": [],
   "source": [
    "p_train, p_val, p_test = dataSplit(phonemes_index)"
   ]
  },
  {
   "cell_type": "code",
   "execution_count": 18,
   "metadata": {
    "collapsed": true
   },
   "outputs": [],
   "source": [
    "g_train, g_val, g_test = dataSplit(graphemes_index)"
   ]
  },
  {
   "cell_type": "code",
   "execution_count": 20,
   "metadata": {
    "collapsed": false
   },
   "outputs": [
    {
     "data": {
      "text/plain": [
       "(106082, 6240, 12481)"
      ]
     },
     "execution_count": 20,
     "metadata": {},
     "output_type": "execute_result"
    }
   ],
   "source": [
    "len(p_train), len(p_val), len(p_test)"
   ]
  },
  {
   "cell_type": "code",
   "execution_count": 19,
   "metadata": {
    "collapsed": false
   },
   "outputs": [],
   "source": [
    "with open(\"input/input.pkl\", \"wb\") as f:\n",
    "    pickle.dump(p_train, f, protocol=-1)\n",
    "    pickle.dump(p_val, f, protocol=-1)\n",
    "    pickle.dump(p_test, f, protocol=-1)\n",
    "    pickle.dump(g_train, f, protocol=-1)\n",
    "    pickle.dump(g_val, f, protocol=-1)\n",
    "    pickle.dump(g_test, f, protocol=-1)"
   ]
  },
  {
   "cell_type": "code",
   "execution_count": null,
   "metadata": {
    "collapsed": true,
    "deletable": true,
    "editable": true
   },
   "outputs": [],
   "source": [
    "class data():\n",
    "    def __init__(self, ):\n",
    "        self.i2l = ['START']\n",
    "        self.l2i = {'START': 0}\n",
    "        \n",
    "        for i, l in enumerate(string.ascii_lowercase):\n",
    "            self.i2l.append(l)\n",
    "            self.l2i[l] = i+1\n",
    "            \n",
    "        self.i2l.append('END')\n",
    "        self.l2i['END'] = len(self.i2l) - 1"
   ]
  }
 ],
 "metadata": {
  "kernelspec": {
   "display_name": "Python 3",
   "language": "python",
   "name": "python3"
  },
  "language_info": {
   "codemirror_mode": {
    "name": "ipython",
    "version": 3
   },
   "file_extension": ".py",
   "mimetype": "text/x-python",
   "name": "python",
   "nbconvert_exporter": "python",
   "pygments_lexer": "ipython3",
   "version": "3.5.2"
  },
  "toc": {
   "colors": {
    "hover_highlight": "#DAA520",
    "running_highlight": "#FF0000",
    "selected_highlight": "#FFD700"
   },
   "moveMenuLeft": true,
   "nav_menu": {
    "height": "12px",
    "width": "252px"
   },
   "navigate_menu": true,
   "number_sections": true,
   "sideBar": true,
   "threshold": 4,
   "toc_cell": false,
   "toc_section_display": "block",
   "toc_window_display": false
  }
 },
 "nbformat": 4,
 "nbformat_minor": 2
}
